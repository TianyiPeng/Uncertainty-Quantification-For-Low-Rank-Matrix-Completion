{
 "cells": [
  {
   "cell_type": "code",
   "execution_count": 2,
   "metadata": {},
   "outputs": [],
   "source": [
    "import numpy as np\n",
    "import scipy as sp\n",
    "import scipy.linalg\n",
    "import scipy.stats\n",
    "import seaborn as sns\n",
    "import matplotlib.pyplot as plt\n",
    "import pickle\n",
    "from scipy import sparse\n",
    "import os.path\n",
    "from scipy.interpolate import splrep, splev"
   ]
  },
  {
   "cell_type": "code",
   "execution_count": 3,
   "metadata": {},
   "outputs": [],
   "source": [
    "def ALS_solve(M, Ω, r, mu, epsilon=1e-3, max_iterations=100, debug = False):\n",
    "    \"\"\"\n",
    "    Solve probabilistic matrix factorization using alternating least squares.\n",
    "\n",
    "    Since loss function is non-convex, each attempt at ALS starts from a\n",
    "    random initialization and returns a local optimum.\n",
    "\n",
    "    [ Salakhutdinov and Mnih 2008 ]\n",
    "    [ Hu, Koren, and Volinksy 2009 ]\n",
    "\n",
    "    Parameters:\n",
    "    -----------\n",
    "    M : m x n array\n",
    "        matrix to complete\n",
    "\n",
    "    Ω : m x n array\n",
    "        matrix with entries zero (if missing) or one (if present)\n",
    "\n",
    "    r : integer\n",
    "        how many factors to use\n",
    "\n",
    "    mu : float\n",
    "        hyper-parameter penalizing norm of factored U, V\n",
    "\n",
    "    epsilon : float\n",
    "        convergence condition on the difference between iterative results\n",
    "\n",
    "    max_iterations: int\n",
    "        hard limit on maximum number of iterations\n",
    "\n",
    "    Returns:\n",
    "    --------\n",
    "    X: m x n array\n",
    "        completed matrix\n",
    "    \"\"\"\n",
    "    #logger = logging.getLogger(__name__)\n",
    "    n1, n2 = M.shape\n",
    "\n",
    "    U = np.random.randn(n1, r)\n",
    "    V = np.random.randn(n2, r)\n",
    "\n",
    "    prev_X = np.dot(U, V.T)\n",
    "\n",
    "    def solve(M, U, Ω):\n",
    "        V = np.zeros((M.shape[1], r))\n",
    "        mu_I = mu * np.eye(U.shape[1])\n",
    "        for j in range(M.shape[1]):\n",
    "            X1 = Ω[:, j:j+1].copy() * U\n",
    "            X2 = X1.T @ X1 + mu_I\n",
    "            #V[j] = (np.linalg.pinv(X2) @ X1.T @ (M[:, j:j+1].copy())).T\n",
    "            #print(M[:, j:j+1].shape)\n",
    "            V[j] = np.linalg.solve(X2, X1.T @ (M[:, j:j+1].copy())).reshape(-1)\n",
    "        return V\n",
    "\n",
    "    for _ in range(max_iterations):\n",
    "\n",
    "        U = solve(M.T, V, Ω.T)\n",
    "\n",
    "        V = solve(M, U, Ω)\n",
    "\n",
    "\n",
    "        X = np.dot(U, V.T)\n",
    "\n",
    "        mean_diff = np.linalg.norm(X - prev_X) / np.linalg.norm(X)\n",
    "        #if _ % 1 == 0:\n",
    "        #    logger.info(\"Iteration: %i; Mean diff: %.4f\" % (_ + 1, mean_diff))\n",
    "        if (debug):\n",
    "            print(\"Iteration: %i; Mean diff: %.4f\" % (_ + 1, mean_diff))\n",
    "        \n",
    "        if mean_diff < epsilon:\n",
    "            break\n",
    "        prev_X = X\n",
    "\n",
    "    return X\n"
   ]
  },
  {
   "cell_type": "code",
   "execution_count": 4,
   "metadata": {},
   "outputs": [],
   "source": [
    "def noise_to_signal(X, M, Ω):\n",
    "    return np.sqrt(np.sum((Ω*X - Ω*M)**2) / np.sum((Ω*M)**2))"
   ]
  },
  {
   "cell_type": "code",
   "execution_count": 5,
   "metadata": {},
   "outputs": [],
   "source": [
    "def abs_mean(X, M, Ω):\n",
    "    return np.sum(np.abs((X-M)*Ω)) / np.sum(Ω)"
   ]
  },
  {
   "cell_type": "code",
   "execution_count": 6,
   "metadata": {},
   "outputs": [],
   "source": [
    "## least-squares solved via single SVD\n",
    "def SVD(M,r): #input matrix M, approximating with rank r\n",
    "    u,s,vh = np.linalg.svd(M, full_matrices=False) #s is diag\n",
    "    X = u[:,:r].dot(np.diag(np.sqrt(s[:r])))\n",
    "    Y = vh[:r,:].T.dot(np.diag(np.sqrt(s[:r])))\n",
    "    return X.dot(Y.T), X, Y## least-squares solved via single SVD"
   ]
  },
  {
   "cell_type": "code",
   "execution_count": 7,
   "metadata": {},
   "outputs": [],
   "source": [
    "def low_rank_matrix_generation(n1, n2, r, gamma_shape, gamma_scale, mean_M):\n",
    "    '''\n",
    "        generate a low-rank matrix M0\n",
    "        low rank components are entry-wise Gamma distribution\n",
    "        mean_M: the mean value of M0\n",
    "    '''\n",
    "    U = np.random.gamma(shape = gamma_shape, scale = gamma_scale, size = (n1, r))\n",
    "    V = np.random.gamma(shape = gamma_shape, scale = gamma_scale, size = (n2, r))\n",
    "    M0 = U.dot(V.T)\n",
    "    M0 = M0 / np.mean(M0) * mean_M\n",
    "    return M0"
   ]
  },
  {
   "cell_type": "markdown",
   "metadata": {},
   "source": [
    "### Compute Sigma "
   ]
  },
  {
   "cell_type": "code",
   "execution_count": 8,
   "metadata": {},
   "outputs": [],
   "source": [
    "def compute_Sigma_Poisson(M0, r, p_observe):\n",
    "    '''\n",
    "        Compute the standard deviation of least-square estimator for Poisson noise\n",
    "\n",
    "        The formula is specified in the paper \n",
    "    '''\n",
    "    u,s,vh = np.linalg.svd(M0, full_matrices=False)\n",
    "    U = u[:, :r]\n",
    "    V = vh[:r, :].T\n",
    "\n",
    "    sigmaS = ((U.dot(U.T))**2).dot(M0) + M0.dot((V.dot(V.T))**2)\n",
    "    sigmaS /= p_observe\n",
    "    sigmaS = np.sqrt(sigmaS)\n",
    "\n",
    "    return sigmaS\n",
    "\n",
    "def compute_Sigma_Bernoulli(M0, r, p_observe):\n",
    "    u,s,vh = np.linalg.svd(M0, full_matrices=False)\n",
    "    U = u[:, :r]\n",
    "    V = vh[:r, :].T\n",
    "\n",
    "    sigmaS = ((U.dot(U.T))**2).dot(M0*(1-M0)) + (M0*(1-M0)).dot((V.dot(V.T))**2)\n",
    "    sigmaS /= p_observe\n",
    "    sigmaS = np.sqrt(sigmaS)\n",
    "\n",
    "    return sigmaS\n",
    "\n",
    "def compute_Sigma_adpative(Mhat, E, r, p_observe):\n",
    "    u,s,vh = np.linalg.svd(Mhat, full_matrices=False)\n",
    "    U = u[:, :r]\n",
    "    V = vh[:r, :].T\n",
    "\n",
    "    sigmaS = ((U.dot(U.T))**2).dot(E**2) + (E**2).dot((V.dot(V.T))**2)\n",
    "    sigmaS /= (p_observe**2)\n",
    "    sigmaS = np.sqrt(sigmaS)\n",
    "\n",
    "    return sigmaS\n"
   ]
  },
  {
   "cell_type": "markdown",
   "metadata": {},
   "source": [
    "## Simulation: Single Entry Distribution Plot"
   ]
  },
  {
   "cell_type": "code",
   "execution_count": 24,
   "metadata": {
    "tags": []
   },
   "outputs": [],
   "source": [
    "np.random.seed(1)\n",
    "\n",
    "n = 300\n",
    "r = 2\n",
    "M0 = low_rank_matrix_generation(n1=n, n2=n, r=r, gamma_shape=2, gamma_scale=1, mean_M=20)\n",
    "\n",
    "index_i = 0\n",
    "index_j = 0\n",
    "\n",
    "u,s,vh = np.linalg.svd(M0, full_matrices=False)\n",
    "U = u[:, :r]\n",
    "V = vh[:r, :].T\n",
    "#print(U, V)\n",
    "\n",
    "num_experiment = 1000 #set to >= 10000 for the plot in the paper \n",
    "p_observe = 0.6\n",
    "exp_list = []\n",
    "for i in range(num_experiment): \n",
    "    X = np.random.poisson(M0)\n",
    "    #X = np.random.binomial(1, np.minimum(M0, 1))\n",
    "    Ω = np.random.rand(n, n) <= p_observe\n",
    "    Mhat = ALS_solve(X, Ω, r, 0)\n",
    "    while (np.linalg.norm(Mhat-M0) / np.linalg.norm(M0) > 1):\n",
    "        Mhat = ALS_solve(X, Ω, r, 0)\n",
    "    exp_list.append((Mhat - M0)[index_i, index_j]) \n",
    "    #print(np.mean(np.abs(Mhat - M0)))\n"
   ]
  },
  {
   "cell_type": "code",
   "execution_count": 26,
   "metadata": {},
   "outputs": [
    {
     "data": {
      "image/png": "[encoded data removed]",
      "text/plain": [
       "<Figure size 432x288 with 1 Axes>"
      ]
     },
     "metadata": {
      "needs_background": "light"
     },
     "output_type": "display_data"
    },
    {
     "name": "stderr",
     "output_type": "stream",
     "text": [
      "The PostScript backend does not support transparency; partially transparent artists will be rendered opaque.\n"
     ]
    },
    {
     "data": {
      "image/png": "[encoded data removed]",
      "text/plain": [
       "<Figure size 360x360 with 1 Axes>"
      ]
     },
     "metadata": {
      "needs_background": "light"
     },
     "output_type": "display_data"
    }
   ],
   "source": [
    "sigmaS = compute_Sigma_Poisson(M0, r, p_observe)\n",
    "\n",
    "thm_list = np.zeros(2000)\n",
    "for i in range(2000):\n",
    "    thm_list[i] = np.random.normal(loc=0, scale=sigmaS[index_i, index_j])\n",
    "\n",
    "from scipy.stats import norm\n",
    "\n",
    "def CDF(points):\n",
    "    points = np.sort(points)\n",
    "    Y = np.arange(1, len(points)+1, 1) / len(points)\n",
    "    return points, Y\n",
    "\n",
    "def pdf(samples):\n",
    "    samples = np.array(samples) / sigmaS[index_i, index_j]\n",
    "    #hist, bined = np.histogram(samples, bins = 300, density=True)\n",
    "    #plt.plot((bined[:-1]/2+bined[1:]/2), hist)\n",
    "    pos_guassian = np.linspace(min(samples), max(samples), 1000)\n",
    "    pdf_guassian = norm.pdf(pos_guassian, loc=0, scale=1)\n",
    "    #plt.plot(pos_guassian, pdf_guassian)\n",
    "    #plt.show()\n",
    "\n",
    "    g = sns.displot(data=samples, kind='hist', stat='density', bins=50)\n",
    "    g.set(xlim=(-4, 4))\n",
    "    g.set(ylim=(0.0, 0.45))\n",
    "    plt.plot(pos_guassian, pdf_guassian, label=r'$N(0, 1)$', color='r')\n",
    "    plt.legend(fontsize = 17)\n",
    "    plt.ylabel('Density', fontsize = 18)\n",
    "    plt.tight_layout()\n",
    "    plt.savefig('distribution.eps')\n",
    "    plt.show()\n",
    "\n",
    "X1, Y1 = CDF(exp_list)\n",
    "X2, Y2 = CDF(thm_list)\n",
    "plt.plot(X1, Y1, X2, Y2)\n",
    "plt.xlim([X2.min(), -X2.min()])\n",
    "plt.legend(['Experiment', 'Theory'])\n",
    "plt.xlabel(r'$M^{d} - M$')\n",
    "plt.ylabel('CDF')\n",
    "plt.show()\n",
    "\n",
    "pdf(exp_list)"
   ]
  },
  {
   "cell_type": "markdown",
   "metadata": {},
   "source": [
    "## Simulation: Coverage Rate 95% Verification"
   ]
  },
  {
   "cell_type": "code",
   "execution_count": 27,
   "metadata": {},
   "outputs": [],
   "source": [
    "def compute_coverage_rate_with_CI(M0, Mhat, sigmaS, CI, Ω=None):\n",
    "    if (Ω is None):\n",
    "        Ω = np.ones_like(M0)\n",
    "    delta = (1-CI)/2\n",
    "    mul = norm.ppf(CI+delta)\n",
    "    return np.sum((np.abs(M0-Mhat) <= sigmaS * mul)*Ω) / np.sum(Ω)"
   ]
  },
  {
   "cell_type": "code",
   "execution_count": 31,
   "metadata": {},
   "outputs": [
    {
     "name": "stdout",
     "output_type": "stream",
     "text": [
      "0.9420104 0.002444868716311778\n",
      "0.9446532000000001 0.002204836175320076\n",
      "0.9470328 0.003080624248427583\n",
      "0.9500352 0.0025127691816002593\n",
      "0.906968 0.0053965580141419655\n",
      "0.9340728 0.003306008977604256\n",
      "0.9340784 0.0032781390818572664\n",
      "0.9445612000000001 0.0018714974111657178\n"
     ]
    }
   ],
   "source": [
    "#np.random.seed(1)\n",
    "\n",
    "n = 500\n",
    "\n",
    "for r in [3, 6]:\n",
    "    for p in [0.3, 0.6]:\n",
    "        for mean_M in [5, 20]:\n",
    "            num_experiment = 10 # set to >= 100 for the results in the paper\n",
    "            results = []\n",
    "            for i in range(num_experiment): \n",
    "                M0 = low_rank_matrix_generation(n1=n, n2=n, r=r, gamma_shape=2, gamma_scale=1, mean_M=mean_M)\n",
    "                p_observe = p\n",
    "                sigmaS = compute_Sigma_Poisson(M0, r, p_observe)\n",
    "                X = np.random.poisson(M0)\n",
    "                Ω = np.random.rand(n, n) <= p_observe\n",
    "                Mhat = ALS_solve(X, Ω, r, 0)\n",
    "                while (np.linalg.norm(Mhat-M0) / np.linalg.norm(M0) > 1):\n",
    "                    Mhat = ALS_solve(X, Ω, r, 0)\n",
    "\n",
    "                results.append(compute_coverage_rate_with_CI(M0, Mhat, sigmaS, CI=0.95))\n",
    "\n",
    "            print(np.mean(results), np.std(results))\n",
    "    "
   ]
  },
  {
   "cell_type": "markdown",
   "metadata": {},
   "source": [
    "## Sales data: Maximizing Coverage Rate with Limited Budgets"
   ]
  },
  {
   "cell_type": "code",
   "execution_count": 46,
   "metadata": {},
   "outputs": [
    {
     "name": "stdout",
     "output_type": "stream",
     "text": [
      "(1115, 942)\n"
     ]
    }
   ],
   "source": [
    "import pickle\n",
    "sale_matrix = pickle.load(open('drug_sale.p', 'rb'))\n",
    "sale_matrix = sale_matrix.fillna(0).to_numpy()\n",
    "print(sale_matrix.shape)\n",
    "remaining_cols = np.sum(sale_matrix==0, axis = 0) < 200 #filtering cols\n",
    "remaining_rows = np.sum(sale_matrix==0, axis = 1) < 200 #filtering rows\n",
    "\n",
    "sale_matrix = sale_matrix[:, remaining_cols]\n",
    "sale_matrix = sale_matrix[remaining_rows, :]\n",
    "O = sale_matrix\n",
    "O = np.maximum(O, 0)"
   ]
  },
  {
   "cell_type": "code",
   "execution_count": 51,
   "metadata": {},
   "outputs": [],
   "source": [
    "def Inverse_Gaussian(t, S):\n",
    "    A = -2 * (t + np.log(S * np.sqrt(2*np.pi))) * (S**2)\n",
    "    A = np.maximum(A, 0)\n",
    "    return np.sqrt(A)\n",
    "    \n",
    "def compute_coverage_rate_with_budget(M0, Mhat, sigmaS, budget, eps = 1e-6, Omega=None):\n",
    "    if (Omega is None):\n",
    "        Omega = np.ones_like(M0)\n",
    "    l_bound = 0\n",
    "    sigma = np.min(sigmaS)\n",
    "    r_bound = 1 / sigma / np.sqrt(2*np.pi)\n",
    "    while (r_bound - l_bound > eps):\n",
    "        mid = (r_bound + l_bound) / 2\n",
    "        cost = 0\n",
    "        A = Inverse_Gaussian(np.log(mid), sigmaS) \n",
    "        cost = 2 * np.sum(A)\n",
    "        if (cost > budget):\n",
    "            l_bound = mid\n",
    "        else:\n",
    "            r_bound = mid\n",
    "\n",
    "    return np.sum((np.abs(M0-Mhat) <= A)*Omega) / np.sum(Omega)\n",
    "\n",
    "def budget_coverage_rate(M0, Mhat, sigmaS, Omega=None, s = None):\n",
    "    if (Omega is None):\n",
    "        Omega = np.ones_like(M0)\n",
    "    cost = []\n",
    "    coverage = []\n",
    "    if (s is None):\n",
    "        s =  np.arange(-30, np.log(1 / np.min(sigmaS) / np.sqrt(2*np.pi))+0.1, 0.1)\n",
    "    for t in s:\n",
    "        A = Inverse_Gaussian(t, sigmaS)\n",
    "        cost.append(np.sum(A*Omega) * 2)\n",
    "        coverage.append(np.sum((np.abs(M0-Mhat) <= A)*Omega) / np.sum(Omega))\n",
    "    return s, cost, coverage "
   ]
  },
  {
   "cell_type": "code",
   "execution_count": 55,
   "metadata": {},
   "outputs": [],
   "source": [
    "r = 4\n",
    "n1 = O.shape[0]\n",
    "n2 = O.shape[1]\n",
    "\n",
    "num_experiment = 1\n",
    "p_observe = 0.95\n",
    "exp_list = []\n",
    "for i in range(num_experiment):\n",
    "    X = O\n",
    "    Ω = (np.random.rand(n1, n2) <= p_observe)\n",
    "    \n",
    "    M0 = X\n",
    "    u,s,vh = np.linalg.svd(M0, full_matrices=False)\n",
    "    U = u[:, :r]\n",
    "    V = vh[:r, :].T\n",
    "\n",
    "    X_r = (U*s[:r]).dot(V.T)\n",
    "\n",
    "    Mhat = ALS_solve(X, Ω, r, 0)\n",
    "    #print(np.sqrt(np.sum(M0)) / np.linalg.norm(M0))\n",
    "    #print(np.linalg.norm((Mhat-X)*(1-Ω)) / np.linalg.norm(X*(1-Ω)))\n",
    "    while (np.linalg.norm(Mhat-M0) / np.linalg.norm(M0) > 1):\n",
    "        Mhat = ALS_solve(X, Ω, r, 0)\n",
    "    #Mhat = np.maximum(Mhat, 0)\n",
    "\n",
    "    sigmaS = compute_Sigma_Poisson(Mhat, r, p_observe)\n",
    "    \n",
    "    u,s,vh = np.linalg.svd(Mhat, full_matrices=False)\n",
    "    Uhat = u[:, :r]\n",
    "    Vhat = vh[:r, :].T\n",
    "\n",
    "    gaussianS = np.zeros_like(M0)\n",
    "    gaussianS = np.ones((n1,1)).dot(np.sum(Vhat**2, axis=1).reshape(1, -1)) + np.sum(Uhat**2, axis=1).reshape(-1, 1).dot(np.ones((1, n2)))\n",
    "    gaussianS /= p_observe\n",
    "    gaussianS = np.sqrt(gaussianS)\n",
    "    sigma = np.sqrt(np.sum(((Mhat-X)**2)*Ω)/np.sum(Ω))"
   ]
  },
  {
   "cell_type": "code",
   "execution_count": 56,
   "metadata": {},
   "outputs": [
    {
     "name": "stderr",
     "output_type": "stream",
     "text": [
      "The PostScript backend does not support transparency; partially transparent artists will be rendered opaque.\n"
     ]
    },
    {
     "data": {
      "image/png": "[encoded data removed]",
      "text/plain": [
       "<Figure size 432x288 with 1 Axes>"
      ]
     },
     "metadata": {
      "needs_background": "light"
     },
     "output_type": "display_data"
    }
   ],
   "source": [
    "_, cost_A, coverage_A = budget_coverage_rate(X_r, Mhat, sigmaS, 1-Ω, np.arange(-35, np.log(1 / np.min(sigmaS) / np.sqrt(2*np.pi))+0.1, 0.2))\n",
    "_, cost_B, coverage_B = budget_coverage_rate(X_r, Mhat, gaussianS*sigma, 1-Ω, np.arange(-20, np.log(1 / np.min(sigmaS) / np.sqrt(2*np.pi))+0.1, 0.1))\n",
    "plt.plot(cost_A, coverage_A, color='r')\n",
    "plt.plot(cost_B, coverage_B, color='g')\n",
    "plt.xlim([0, cost_A[0]])\n",
    "plt.legend(['Poisson Formula', 'Homogeneous Gaussian Formula'], fontsize=14)\n",
    "plt.xlabel('Budget', fontsize=14)\n",
    "plt.ylabel('Coverage Rate', fontsize=14)\n",
    "plt.title(r'$p$={}'.format(p_observe), fontsize=14)\n",
    "plt.savefig('real-data-coverage-rate-comparison.eps')\n",
    "plt.show()"
   ]
  },
  {
   "cell_type": "code",
   "execution_count": null,
   "metadata": {},
   "outputs": [],
   "source": []
  }
 ],
 "metadata": {
  "interpreter": {
   "hash": "78887cdda972d4a136744ce1c7af46d38b8785688e73eb5130de4f4043b4bcd2"
  },
  "kernelspec": {
   "display_name": "Python 3.6.13 64-bit ('chemvae': conda)",
   "name": "python3"
  },
  "language_info": {
   "codemirror_mode": {
    "name": "ipython",
    "version": 3
   },
   "file_extension": ".py",
   "mimetype": "text/x-python",
   "name": "python",
   "nbconvert_exporter": "python",
   "pygments_lexer": "ipython3",
   "version": "3.7.4"
  },
  "orig_nbformat": 2
 },
 "nbformat": 4,
 "nbformat_minor": 2
}
